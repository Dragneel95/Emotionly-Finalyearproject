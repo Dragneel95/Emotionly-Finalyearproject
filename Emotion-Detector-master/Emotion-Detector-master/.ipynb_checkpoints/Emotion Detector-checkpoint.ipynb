{
 "cells": [
  {
   "cell_type": "code",
   "execution_count": 1,
   "metadata": {
    "collapsed": false
   },
   "outputs": [],
   "source": [
    "from __future__ import division\n",
    "import nltk \n",
    "import re\n",
    "import numpy as np\n",
    "import pandas as pd\n",
    "from nltk.corpus import stopwords\n",
    "from nltk.stem import *\n",
    "from textblob.classifiers import NaiveBayesClassifier\n",
    "from sklearn.cross_validation import KFold\n",
    "from nltk.classify.naivebayes import NaiveBayesClassifier\n",
    "from gensim import corpora, models, similarities\n",
    "from nltk.corpus import wordnet as wn\n",
    "import urllib\n",
    "import urllib2\n",
    "from alchemyapi import AlchemyAPI\n",
    "alchemyapi = AlchemyAPI()"
   ]
  },
  {
   "cell_type": "code",
   "execution_count": 123,
   "metadata": {
    "collapsed": false
   },
   "outputs": [
    {
     "data": {
      "text/plain": [
       "'\\n36 - Class Label\\n40 - Sentence\\n'"
      ]
     },
     "execution_count": 123,
     "metadata": {},
     "output_type": "execute_result"
    }
   ],
   "source": [
    "'''\n",
    "Reading the Dataset (ISEAR Dataset)\n",
    "'''\n",
    "Data = pd.read_csv('ISEAR.csv',header=None)\n",
    "'''\n",
    "36 - Class Label\n",
    "40 - Sentence\n",
    "'''"
   ]
  },
  {
   "cell_type": "code",
   "execution_count": 124,
   "metadata": {
    "collapsed": true
   },
   "outputs": [],
   "source": [
    "'''\n",
    "Emotion Labels\n",
    "'''\n",
    "emotion_labels = ['joy', 'fear', 'anger', 'sadness', 'disgust', 'shame', 'guilt']\n",
    "# emotion_labels = ['joy', 'fear', 'anger', 'sadness', 'disgust']"
   ]
  },
  {
   "cell_type": "code",
   "execution_count": 125,
   "metadata": {
    "collapsed": false
   },
   "outputs": [],
   "source": [
    "'''\n",
    "Negation words\n",
    "'''\n",
    "negation_words = ['not', 'neither', 'nor', 'but', 'however', 'although', 'nonetheless', 'despite', 'except', 'even though', 'yet']"
   ]
  },
  {
   "cell_type": "code",
   "execution_count": 126,
   "metadata": {
    "collapsed": false
   },
   "outputs": [],
   "source": [
    "'''\n",
    "Returns a list of all corresponding class labels\n",
    "'''\n",
    "def class_labels(emotions):\n",
    "    labels = []\n",
    "    labelset = []\n",
    "    exclude = []\n",
    "    for i in range(len(emotions)):\n",
    "#         labels.append(e)\n",
    "#         labelset.append([e])\n",
    "        if emotions[i] not in ['shame','guilt']:\n",
    "            labels.append(e)\n",
    "            labelset.append([e])\n",
    "        else:\n",
    "            exclude.append(i)\n",
    "    return labels, labelset, exclude"
   ]
  },
  {
   "cell_type": "code",
   "execution_count": 127,
   "metadata": {
    "collapsed": false
   },
   "outputs": [],
   "source": [
    "'''\n",
    "Removes unnecessary characters from sentences\n",
    "'''\n",
    "def removal(sentences):\n",
    "    sentence_list = []\n",
    "    count = 0\n",
    "#     for sen in sentences:\n",
    "#         count += 1\n",
    "#         print count\n",
    "#         print sen\n",
    "#         print type(sen)\n",
    "    s = nltk.word_tokenize(sentences)\n",
    "    characters = [\"á\", \"\\xc3\", \"\\xa1\", \"\\n\", \",\", \".\", \"[\", \"]\", \"\"]\n",
    "    l = []\n",
    "    for t in s:\n",
    "        if t not in characters:\n",
    "            l.append(t)\n",
    "    return l\n",
    "#     new = ' '.join([i for i in s if not [e for e in characters if e in i]])\n",
    "#     print new\n",
    "#     sentence_list.append(new)\n",
    "#     return sentence_list"
   ]
  },
  {
   "cell_type": "code",
   "execution_count": 128,
   "metadata": {
    "collapsed": false
   },
   "outputs": [],
   "source": [
    "'''\n",
    "POS-TAGGER, returns NAVA words\n",
    "'''\n",
    "def pos_tag(sentences):\n",
    "    tags = [] #have the pos tag included\n",
    "    nava_sen = []\n",
    "    pt = nltk.pos_tag(sentences)\n",
    "#     for s in sentences:\n",
    "#     s_token = nltk.word_tokenize(sentences)\n",
    "#     pt = nltk.pos_tag(s_token)\n",
    "    nava = []\n",
    "    nava_words = []\n",
    "    for t in pt:\n",
    "        if t[1].startswith('NN') or t[1].startswith('JJ') or t[1].startswith('VB') or t[1].startswith('RB'):\n",
    "            nava.append(t)\n",
    "            nava_words.append(t[0])\n",
    "    return nava, nava_words\n",
    "#     tags.append(nava)\n",
    "#     nava_sen.append(nava_words)\n",
    "#     return tags, nava_sen"
   ]
  },
  {
   "cell_type": "code",
   "execution_count": 129,
   "metadata": {
    "collapsed": false
   },
   "outputs": [],
   "source": [
    "'''\n",
    "Performs stemming\n",
    "'''\n",
    "def stemming(sentences):\n",
    "    sentence_list = []\n",
    "    sen_string = []\n",
    "    sen_token = []\n",
    "    stemmer = PorterStemmer()\n",
    "    i = 0\n",
    "#     for sen in sentences:\n",
    "#         print i,\n",
    "    i += 1\n",
    "    st = \"\"\n",
    "    for word in sentences:\n",
    "        word_l = word.lower()\n",
    "        if len(word_l) >= 3:\n",
    "            st += stemmer.stem(word_l) + \" \"\n",
    "    sen_string.append(st)\n",
    "    w_set = nltk.word_tokenize(st)\n",
    "    sen_token.append(w_set)\n",
    "    w_text = nltk.Text(w_set)\n",
    "    sentence_list.append(w_text)\n",
    "    return w_text, st, w_set\n",
    "#     return sentence_list, sen_string, sen_token"
   ]
  },
  {
   "cell_type": "code",
   "execution_count": 130,
   "metadata": {
    "collapsed": true
   },
   "outputs": [],
   "source": [
    "'''\n",
    "Write to file\n",
    "'''\n",
    "def write_to_file(filename, text):\n",
    "    o = open(filename,'w')\n",
    "    o.write(str(text))\n",
    "    o.close()"
   ]
  },
  {
   "cell_type": "code",
   "execution_count": 131,
   "metadata": {
    "collapsed": false
   },
   "outputs": [],
   "source": [
    "'''\n",
    "Creating the dataframe\n",
    "'''\n",
    "def create_frame(Data):\n",
    "    labels = []\n",
    "#     sentences = []\n",
    "#     sen_string = []\n",
    "#     sen_token =[]\n",
    "    sen = []\n",
    "    sen_s = []\n",
    "    sen_t = []\n",
    "    labelset = []\n",
    "    for i in range(len(Data)):\n",
    "        if i >= 0:\n",
    "#             print i,\n",
    "            emotion = Data[0][i]\n",
    "            sit = Data[1][i]\n",
    "#             if emotion not in ['shame', 'guilt']:\n",
    "            labels.append(emotion)\n",
    "            labelset.append([emotion])\n",
    "            sent = removal(sit)\n",
    "            nava, sent_pt = pos_tag(sent)\n",
    "            sentences, sen_string, sen_token = stemming(sent_pt)\n",
    "            sen.append(sentences)\n",
    "            sen_s.append(sen_string)\n",
    "            sen_t.append(sen_token)\n",
    "#     labels, labelset, exclude = class_labels(emotions[1:])\n",
    "#     sent = removal(sit[1:], exclude)\n",
    "#     nava, sent_pt = pos_tag(sent)\n",
    "#     sentences, sen_string, sen_token = stemming(sent_pt)\n",
    "    frame = pd.DataFrame({0 : labels,\n",
    "                          1 : sen,\n",
    "                          2 : sen_s,\n",
    "                          3 : sen_t,\n",
    "                          4 : labelset})\n",
    "    return frame, sen_t, labels"
   ]
  },
  {
   "cell_type": "code",
   "execution_count": 132,
   "metadata": {
    "collapsed": false
   },
   "outputs": [],
   "source": [
    "c, st, labels = create_frame(Data)"
   ]
  },
  {
   "cell_type": "code",
   "execution_count": 133,
   "metadata": {
    "collapsed": false
   },
   "outputs": [
    {
     "data": {
      "text/html": [
       "<div>\n",
       "<table border=\"1\" class=\"dataframe\">\n",
       "  <thead>\n",
       "    <tr style=\"text-align: right;\">\n",
       "      <th></th>\n",
       "      <th>0</th>\n",
       "      <th>1</th>\n",
       "      <th>2</th>\n",
       "      <th>3</th>\n",
       "      <th>4</th>\n",
       "    </tr>\n",
       "  </thead>\n",
       "  <tbody>\n",
       "    <tr>\n",
       "      <th>0</th>\n",
       "      <td>joy</td>\n",
       "      <td>(day, feel, close, partner, other, friend, fee...</td>\n",
       "      <td>day feel close partner other friend feel peac ...</td>\n",
       "      <td>[day, feel, close, partner, other, friend, fee...</td>\n",
       "      <td>[joy]</td>\n",
       "    </tr>\n",
       "    <tr>\n",
       "      <th>1</th>\n",
       "      <td>fear</td>\n",
       "      <td>(time, imagin, someon, love, contact, seriou, ...</td>\n",
       "      <td>time imagin someon love contact seriou ill eve...</td>\n",
       "      <td>[time, imagin, someon, love, contact, seriou, ...</td>\n",
       "      <td>[fear]</td>\n",
       "    </tr>\n",
       "    <tr>\n",
       "      <th>2</th>\n",
       "      <td>anger</td>\n",
       "      <td>(had, been, obvious, unjustli, treat, had, pos...</td>\n",
       "      <td>had been obvious unjustli treat had possibl el...</td>\n",
       "      <td>[had, been, obvious, unjustli, treat, had, pos...</td>\n",
       "      <td>[anger]</td>\n",
       "    </tr>\n",
       "    <tr>\n",
       "      <th>3</th>\n",
       "      <td>sadness</td>\n",
       "      <td>(think, short, time, live, relat, period, life...</td>\n",
       "      <td>think short time live relat period life think ...</td>\n",
       "      <td>[think, short, time, live, relat, period, life...</td>\n",
       "      <td>[sadness]</td>\n",
       "    </tr>\n",
       "    <tr>\n",
       "      <th>4</th>\n",
       "      <td>disgust</td>\n",
       "      <td>(gather, found, involuntarili, sit, next, peop...</td>\n",
       "      <td>gather found involuntarili sit next peopl expr...</td>\n",
       "      <td>[gather, found, involuntarili, sit, next, peop...</td>\n",
       "      <td>[disgust]</td>\n",
       "    </tr>\n",
       "    <tr>\n",
       "      <th>5</th>\n",
       "      <td>shame</td>\n",
       "      <td>(realiz, wa, direct, feel, discont, partner, w...</td>\n",
       "      <td>realiz wa direct feel discont partner way wa t...</td>\n",
       "      <td>[realiz, wa, direct, feel, discont, partner, w...</td>\n",
       "      <td>[shame]</td>\n",
       "    </tr>\n",
       "    <tr>\n",
       "      <th>6</th>\n",
       "      <td>guilt</td>\n",
       "      <td>(feel, guilti, realiz, consid, materi, thing, ...</td>\n",
       "      <td>feel guilti realiz consid materi thing more im...</td>\n",
       "      <td>[feel, guilti, realiz, consid, materi, thing, ...</td>\n",
       "      <td>[guilt]</td>\n",
       "    </tr>\n",
       "    <tr>\n",
       "      <th>7</th>\n",
       "      <td>joy</td>\n",
       "      <td>(girlfriend, had, taken, exam, went, parent, p...</td>\n",
       "      <td>girlfriend had taken exam went parent place</td>\n",
       "      <td>[girlfriend, had, taken, exam, went, parent, p...</td>\n",
       "      <td>[joy]</td>\n",
       "    </tr>\n",
       "    <tr>\n",
       "      <th>8</th>\n",
       "      <td>fear</td>\n",
       "      <td>(first, time, realiz, mean, death)</td>\n",
       "      <td>first time realiz mean death</td>\n",
       "      <td>[first, time, realiz, mean, death]</td>\n",
       "      <td>[fear]</td>\n",
       "    </tr>\n",
       "    <tr>\n",
       "      <th>9</th>\n",
       "      <td>anger</td>\n",
       "      <td>(car, overtak, forc, drive, road)</td>\n",
       "      <td>car overtak forc drive road</td>\n",
       "      <td>[car, overtak, forc, drive, road]</td>\n",
       "      <td>[anger]</td>\n",
       "    </tr>\n",
       "    <tr>\n",
       "      <th>10</th>\n",
       "      <td>sadness</td>\n",
       "      <td>(recent, thought, hard, work, take, studi, wan...</td>\n",
       "      <td>recent thought hard work take studi want tri s...</td>\n",
       "      <td>[recent, thought, hard, work, take, studi, wan...</td>\n",
       "      <td>[sadness]</td>\n",
       "    </tr>\n",
       "    <tr>\n",
       "      <th>11</th>\n",
       "      <td>disgust</td>\n",
       "      <td>(found, bristl, liver, past, tube)</td>\n",
       "      <td>found bristl liver past tube</td>\n",
       "      <td>[found, bristl, liver, past, tube]</td>\n",
       "      <td>[disgust]</td>\n",
       "    </tr>\n",
       "    <tr>\n",
       "      <th>12</th>\n",
       "      <td>shame</td>\n",
       "      <td>(wa, tire, unmotiv, shout, girlfriend, brought...</td>\n",
       "      <td>wa tire unmotiv shout girlfriend brought neg s...</td>\n",
       "      <td>[wa, tire, unmotiv, shout, girlfriend, brought...</td>\n",
       "      <td>[shame]</td>\n",
       "    </tr>\n",
       "    <tr>\n",
       "      <th>13</th>\n",
       "      <td>guilt</td>\n",
       "      <td>(think, not, studi, enough, weekend, think, ha...</td>\n",
       "      <td>think not studi enough weekend think have been...</td>\n",
       "      <td>[think, not, studi, enough, weekend, think, ha...</td>\n",
       "      <td>[guilt]</td>\n",
       "    </tr>\n",
       "    <tr>\n",
       "      <th>14</th>\n",
       "      <td>joy</td>\n",
       "      <td>(pass, examin, did, not, think, did, well)</td>\n",
       "      <td>pass examin did not think did well</td>\n",
       "      <td>[pass, examin, did, not, think, did, well]</td>\n",
       "      <td>[joy]</td>\n",
       "    </tr>\n",
       "    <tr>\n",
       "      <th>15</th>\n",
       "      <td>fear</td>\n",
       "      <td>(one, ha, arrang, meet, someon, person, arriv,...</td>\n",
       "      <td>one ha arrang meet someon person arriv late me...</td>\n",
       "      <td>[one, ha, arrang, meet, someon, person, arriv,...</td>\n",
       "      <td>[fear]</td>\n",
       "    </tr>\n",
       "    <tr>\n",
       "      <th>16</th>\n",
       "      <td>anger</td>\n",
       "      <td>(unjustli, accus, someth, ha, not, done)</td>\n",
       "      <td>unjustli accus someth ha not done</td>\n",
       "      <td>[unjustli, accus, someth, ha, not, done]</td>\n",
       "      <td>[anger]</td>\n",
       "    </tr>\n",
       "    <tr>\n",
       "      <th>17</th>\n",
       "      <td>sadness</td>\n",
       "      <td>(one, studi, seem, hopelessli, difficult, unin...</td>\n",
       "      <td>one studi seem hopelessli difficult uninterest</td>\n",
       "      <td>[one, studi, seem, hopelessli, difficult, unin...</td>\n",
       "      <td>[sadness]</td>\n",
       "    </tr>\n",
       "    <tr>\n",
       "      <th>18</th>\n",
       "      <td>disgust</td>\n",
       "      <td>(find, someon, know, not, had, thought, instan...</td>\n",
       "      <td>find someon know not had thought instanc frien...</td>\n",
       "      <td>[find, someon, know, not, had, thought, instan...</td>\n",
       "      <td>[disgust]</td>\n",
       "    </tr>\n",
       "    <tr>\n",
       "      <th>19</th>\n",
       "      <td>shame</td>\n",
       "      <td>(one, ha, been, unjust, stupid, toward, someon...</td>\n",
       "      <td>one ha been unjust stupid toward someon els</td>\n",
       "      <td>[one, ha, been, unjust, stupid, toward, someon...</td>\n",
       "      <td>[shame]</td>\n",
       "    </tr>\n",
       "    <tr>\n",
       "      <th>20</th>\n",
       "      <td>guilt</td>\n",
       "      <td>(one, ha, neglect, been, unjust, good, friend)</td>\n",
       "      <td>one ha neglect been unjust good friend</td>\n",
       "      <td>[one, ha, neglect, been, unjust, good, friend]</td>\n",
       "      <td>[guilt]</td>\n",
       "    </tr>\n",
       "    <tr>\n",
       "      <th>21</th>\n",
       "      <td>joy</td>\n",
       "      <td>(pass, exam, did, not, expect, pass)</td>\n",
       "      <td>pass exam did not expect pass</td>\n",
       "      <td>[pass, exam, did, not, expect, pass]</td>\n",
       "      <td>[joy]</td>\n",
       "    </tr>\n",
       "    <tr>\n",
       "      <th>22</th>\n",
       "      <td>fear</td>\n",
       "      <td>(climb, tree, pick, appl, angl, ladder, wa, di...</td>\n",
       "      <td>climb tree pick appl angl ladder wa did not en...</td>\n",
       "      <td>[climb, tree, pick, appl, angl, ladder, wa, di...</td>\n",
       "      <td>[fear]</td>\n",
       "    </tr>\n",
       "    <tr>\n",
       "      <th>23</th>\n",
       "      <td>guilt</td>\n",
       "      <td>(excus, are, necessari, get, do)</td>\n",
       "      <td>excus are necessari get do</td>\n",
       "      <td>[excus, are, necessari, get, do]</td>\n",
       "      <td>[guilt]</td>\n",
       "    </tr>\n",
       "    <tr>\n",
       "      <th>24</th>\n",
       "      <td>joy</td>\n",
       "      <td>(had, children)</td>\n",
       "      <td>had children</td>\n",
       "      <td>[had, children]</td>\n",
       "      <td>[joy]</td>\n",
       "    </tr>\n",
       "    <tr>\n",
       "      <th>25</th>\n",
       "      <td>fear</td>\n",
       "      <td>(year, old, son, climb, sat, 7th, floor, balco...</td>\n",
       "      <td>year old son climb sat 7th floor balconi leg h...</td>\n",
       "      <td>[year, old, son, climb, sat, 7th, floor, balco...</td>\n",
       "      <td>[fear]</td>\n",
       "    </tr>\n",
       "    <tr>\n",
       "      <th>26</th>\n",
       "      <td>anger</td>\n",
       "      <td>(partner, wa, attack, lost, teeth)</td>\n",
       "      <td>partner wa attack lost teeth</td>\n",
       "      <td>[partner, wa, attack, lost, teeth]</td>\n",
       "      <td>[anger]</td>\n",
       "    </tr>\n",
       "    <tr>\n",
       "      <th>27</th>\n",
       "      <td>sadness</td>\n",
       "      <td>(see, children, t.v, area, devast, drought, war)</td>\n",
       "      <td>see children t.v area devast drought war</td>\n",
       "      <td>[see, children, t.v, area, devast, drought, war]</td>\n",
       "      <td>[sadness]</td>\n",
       "    </tr>\n",
       "    <tr>\n",
       "      <th>28</th>\n",
       "      <td>disgust</td>\n",
       "      <td>(nearli, walk, blindworm, then, saw, crawl, away)</td>\n",
       "      <td>nearli walk blindworm then saw crawl away</td>\n",
       "      <td>[nearli, walk, blindworm, then, saw, crawl, away]</td>\n",
       "      <td>[disgust]</td>\n",
       "    </tr>\n",
       "    <tr>\n",
       "      <th>29</th>\n",
       "      <td>shame</td>\n",
       "      <td>(saw, year, old, son, grab, oxygen, mask, had,...</td>\n",
       "      <td>saw year old son grab oxygen mask had breath d...</td>\n",
       "      <td>[saw, year, old, son, grab, oxygen, mask, had,...</td>\n",
       "      <td>[shame]</td>\n",
       "    </tr>\n",
       "    <tr>\n",
       "      <th>...</th>\n",
       "      <td>...</td>\n",
       "      <td>...</td>\n",
       "      <td>...</td>\n",
       "      <td>...</td>\n",
       "      <td>...</td>\n",
       "    </tr>\n",
       "    <tr>\n",
       "      <th>7486</th>\n",
       "      <td>shame</td>\n",
       "      <td>(forgot, zip, trouser, wa, not, notic, anyon)</td>\n",
       "      <td>forgot zip trouser wa not notic anyon</td>\n",
       "      <td>[forgot, zip, trouser, wa, not, notic, anyon]</td>\n",
       "      <td>[shame]</td>\n",
       "    </tr>\n",
       "    <tr>\n",
       "      <th>7487</th>\n",
       "      <td>guilt</td>\n",
       "      <td>(peep)</td>\n",
       "      <td>peep</td>\n",
       "      <td>[peep]</td>\n",
       "      <td>[guilt]</td>\n",
       "    </tr>\n",
       "    <tr>\n",
       "      <th>7488</th>\n",
       "      <td>joy</td>\n",
       "      <td>(had, picnic, old, classmat, chat, play, game)</td>\n",
       "      <td>had picnic old classmat chat play game</td>\n",
       "      <td>[had, picnic, old, classmat, chat, play, game]</td>\n",
       "      <td>[joy]</td>\n",
       "    </tr>\n",
       "    <tr>\n",
       "      <th>7489</th>\n",
       "      <td>fear</td>\n",
       "      <td>(night, wa, alon, home, famili, member, usual,...</td>\n",
       "      <td>night wa alon home famili member usual get tog...</td>\n",
       "      <td>[night, wa, alon, home, famili, member, usual,...</td>\n",
       "      <td>[fear]</td>\n",
       "    </tr>\n",
       "    <tr>\n",
       "      <th>7490</th>\n",
       "      <td>anger</td>\n",
       "      <td>(saw, bed, hostel, wa, mess, guess, someon, el...</td>\n",
       "      <td>saw bed hostel wa mess guess someon els had us...</td>\n",
       "      <td>[saw, bed, hostel, wa, mess, guess, someon, el...</td>\n",
       "      <td>[anger]</td>\n",
       "    </tr>\n",
       "    <tr>\n",
       "      <th>7491</th>\n",
       "      <td>sadness</td>\n",
       "      <td>(physic, experi, session, did, not, understand...</td>\n",
       "      <td>physic experi session did not understand conte...</td>\n",
       "      <td>[physic, experi, session, did, not, understand...</td>\n",
       "      <td>[sadness]</td>\n",
       "    </tr>\n",
       "    <tr>\n",
       "      <th>7492</th>\n",
       "      <td>disgust</td>\n",
       "      <td>(man, sexual, aggress, small, girl, bu, girl, ...</td>\n",
       "      <td>man sexual aggress small girl bu girl did not ...</td>\n",
       "      <td>[man, sexual, aggress, small, girl, bu, girl, ...</td>\n",
       "      <td>[disgust]</td>\n",
       "    </tr>\n",
       "    <tr>\n",
       "      <th>7493</th>\n",
       "      <td>shame</td>\n",
       "      <td>(be, unabl, stop, urin, bu)</td>\n",
       "      <td>be unabl stop urin bu</td>\n",
       "      <td>[be, unabl, stop, urin, bu]</td>\n",
       "      <td>[shame]</td>\n",
       "    </tr>\n",
       "    <tr>\n",
       "      <th>7494</th>\n",
       "      <td>guilt</td>\n",
       "      <td>(were, old, peopl, crowd, bu, did, not, have, ...</td>\n",
       "      <td>were old peopl crowd bu did not have courag gi...</td>\n",
       "      <td>[were, old, peopl, crowd, bu, did, not, have, ...</td>\n",
       "      <td>[guilt]</td>\n",
       "    </tr>\n",
       "    <tr>\n",
       "      <th>7495</th>\n",
       "      <td>joy</td>\n",
       "      <td>(wa, first, time, gave, birthday, present, fri...</td>\n",
       "      <td>wa first time gave birthday present friend wro...</td>\n",
       "      <td>[wa, first, time, gave, birthday, present, fri...</td>\n",
       "      <td>[joy]</td>\n",
       "    </tr>\n",
       "    <tr>\n",
       "      <th>7496</th>\n",
       "      <td>fear</td>\n",
       "      <td>(wa, week, higher, level, result, were, announ...</td>\n",
       "      <td>wa week higher level result were announc had t...</td>\n",
       "      <td>[wa, week, higher, level, result, were, announ...</td>\n",
       "      <td>[fear]</td>\n",
       "    </tr>\n",
       "    <tr>\n",
       "      <th>7497</th>\n",
       "      <td>anger</td>\n",
       "      <td>(surnam, brother, wa, differ, often, grin, hom...</td>\n",
       "      <td>surnam brother wa differ often grin home provo...</td>\n",
       "      <td>[surnam, brother, wa, differ, often, grin, hom...</td>\n",
       "      <td>[anger]</td>\n",
       "    </tr>\n",
       "    <tr>\n",
       "      <th>7498</th>\n",
       "      <td>sadness</td>\n",
       "      <td>(wa, primari, father, die, wa, veri, young, th...</td>\n",
       "      <td>wa primari father die wa veri young then did n...</td>\n",
       "      <td>[wa, primari, father, die, wa, veri, young, th...</td>\n",
       "      <td>[sadness]</td>\n",
       "    </tr>\n",
       "    <tr>\n",
       "      <th>7499</th>\n",
       "      <td>disgust</td>\n",
       "      <td>(hostel, roommat, wa, veri, selfish, person, a...</td>\n",
       "      <td>hostel roommat wa veri selfish person avoid do...</td>\n",
       "      <td>[hostel, roommat, wa, veri, selfish, person, a...</td>\n",
       "      <td>[disgust]</td>\n",
       "    </tr>\n",
       "    <tr>\n",
       "      <th>7500</th>\n",
       "      <td>shame</td>\n",
       "      <td>(friend, had, mani, femal, friend, thought, we...</td>\n",
       "      <td>friend had mani femal friend thought were love...</td>\n",
       "      <td>[friend, had, mani, femal, friend, thought, we...</td>\n",
       "      <td>[shame]</td>\n",
       "    </tr>\n",
       "    <tr>\n",
       "      <th>7501</th>\n",
       "      <td>guilt</td>\n",
       "      <td>(past, use, think, mother, wa, veri, nag, pers...</td>\n",
       "      <td>past use think mother wa veri nag person start...</td>\n",
       "      <td>[past, use, think, mother, wa, veri, nag, pers...</td>\n",
       "      <td>[guilt]</td>\n",
       "    </tr>\n",
       "    <tr>\n",
       "      <th>7502</th>\n",
       "      <td>joy</td>\n",
       "      <td>(august,1983, long, await, big, envelop, docum...</td>\n",
       "      <td>august,1983 long await big envelop document c....</td>\n",
       "      <td>[august,1983, long, await, big, envelop, docum...</td>\n",
       "      <td>[joy]</td>\n",
       "    </tr>\n",
       "    <tr>\n",
       "      <th>7503</th>\n",
       "      <td>fear</td>\n",
       "      <td>(christma, eve,1984, had, just, finish, exam, ...</td>\n",
       "      <td>christma eve,1984 had just finish exam wa afra...</td>\n",
       "      <td>[christma, eve,1984, had, just, finish, exam, ...</td>\n",
       "      <td>[fear]</td>\n",
       "    </tr>\n",
       "    <tr>\n",
       "      <th>7504</th>\n",
       "      <td>anger</td>\n",
       "      <td>(septemb, wa, forc, live, someon, did, not, fi...</td>\n",
       "      <td>septemb wa forc live someon did not first week...</td>\n",
       "      <td>[septemb, wa, forc, live, someon, did, not, fi...</td>\n",
       "      <td>[anger]</td>\n",
       "    </tr>\n",
       "    <tr>\n",
       "      <th>7505</th>\n",
       "      <td>sadness</td>\n",
       "      <td>(issu, worri, rather, sadden, mid, septemb, we...</td>\n",
       "      <td>issu worri rather sadden mid septemb went guan...</td>\n",
       "      <td>[issu, worri, rather, sadden, mid, septemb, we...</td>\n",
       "      <td>[sadness]</td>\n",
       "    </tr>\n",
       "    <tr>\n",
       "      <th>7506</th>\n",
       "      <td>disgust</td>\n",
       "      <td>(roommat, like, listen, meaningless, song, had...</td>\n",
       "      <td>roommat like listen meaningless song had melod...</td>\n",
       "      <td>[roommat, like, listen, meaningless, song, had...</td>\n",
       "      <td>[disgust]</td>\n",
       "    </tr>\n",
       "    <tr>\n",
       "      <th>7507</th>\n",
       "      <td>shame</td>\n",
       "      <td>(last, summer, went, camp, c.u, student, wa, w...</td>\n",
       "      <td>last summer went camp c.u student wa work then...</td>\n",
       "      <td>[last, summer, went, camp, c.u, student, wa, w...</td>\n",
       "      <td>[shame]</td>\n",
       "    </tr>\n",
       "    <tr>\n",
       "      <th>7508</th>\n",
       "      <td>guilt</td>\n",
       "      <td>(lie, best, friend)</td>\n",
       "      <td>lie best friend</td>\n",
       "      <td>[lie, best, friend]</td>\n",
       "      <td>[guilt]</td>\n",
       "    </tr>\n",
       "    <tr>\n",
       "      <th>7509</th>\n",
       "      <td>joy</td>\n",
       "      <td>(receiv, letter, distant, friend)</td>\n",
       "      <td>receiv letter distant friend</td>\n",
       "      <td>[receiv, letter, distant, friend]</td>\n",
       "      <td>[joy]</td>\n",
       "    </tr>\n",
       "    <tr>\n",
       "      <th>7510</th>\n",
       "      <td>fear</td>\n",
       "      <td>(parent, were, wa, eldest, home, midnight, mal...</td>\n",
       "      <td>parent were wa eldest home midnight male stran...</td>\n",
       "      <td>[parent, were, wa, eldest, home, midnight, mal...</td>\n",
       "      <td>[fear]</td>\n",
       "    </tr>\n",
       "    <tr>\n",
       "      <th>7511</th>\n",
       "      <td>anger</td>\n",
       "      <td>(year, back, someon, invit, tutor, grand-daugh...</td>\n",
       "      <td>year back someon invit tutor grand-daught gran...</td>\n",
       "      <td>[year, back, someon, invit, tutor, grand-daugh...</td>\n",
       "      <td>[anger]</td>\n",
       "    </tr>\n",
       "    <tr>\n",
       "      <th>7512</th>\n",
       "      <td>shame</td>\n",
       "      <td>(had, taken, respons, someth, had, prepar, how...</td>\n",
       "      <td>had taken respons someth had prepar howev fail...</td>\n",
       "      <td>[had, taken, respons, someth, had, prepar, how...</td>\n",
       "      <td>[shame]</td>\n",
       "    </tr>\n",
       "    <tr>\n",
       "      <th>7513</th>\n",
       "      <td>fear</td>\n",
       "      <td>(wa, home, heard, loud, sound, spit, door, tho...</td>\n",
       "      <td>wa home heard loud sound spit door thought fam...</td>\n",
       "      <td>[wa, home, heard, loud, sound, spit, door, tho...</td>\n",
       "      <td>[fear]</td>\n",
       "    </tr>\n",
       "    <tr>\n",
       "      <th>7514</th>\n",
       "      <td>guilt</td>\n",
       "      <td>(did, not, homework, teacher, had, ask, wa, sc...</td>\n",
       "      <td>did not homework teacher had ask wa scold immedi</td>\n",
       "      <td>[did, not, homework, teacher, had, ask, wa, sc...</td>\n",
       "      <td>[guilt]</td>\n",
       "    </tr>\n",
       "    <tr>\n",
       "      <th>7515</th>\n",
       "      <td>fear</td>\n",
       "      <td>(had, shout, younger, brother, wa, alway, afra...</td>\n",
       "      <td>had shout younger brother wa alway afraid call...</td>\n",
       "      <td>[had, shout, younger, brother, wa, alway, afra...</td>\n",
       "      <td>[fear]</td>\n",
       "    </tr>\n",
       "  </tbody>\n",
       "</table>\n",
       "<p>7516 rows × 5 columns</p>\n",
       "</div>"
      ],
      "text/plain": [
       "            0                                                  1  \\\n",
       "0         joy  (day, feel, close, partner, other, friend, fee...   \n",
       "1        fear  (time, imagin, someon, love, contact, seriou, ...   \n",
       "2       anger  (had, been, obvious, unjustli, treat, had, pos...   \n",
       "3     sadness  (think, short, time, live, relat, period, life...   \n",
       "4     disgust  (gather, found, involuntarili, sit, next, peop...   \n",
       "5       shame  (realiz, wa, direct, feel, discont, partner, w...   \n",
       "6       guilt  (feel, guilti, realiz, consid, materi, thing, ...   \n",
       "7         joy  (girlfriend, had, taken, exam, went, parent, p...   \n",
       "8        fear                 (first, time, realiz, mean, death)   \n",
       "9       anger                  (car, overtak, forc, drive, road)   \n",
       "10    sadness  (recent, thought, hard, work, take, studi, wan...   \n",
       "11    disgust                 (found, bristl, liver, past, tube)   \n",
       "12      shame  (wa, tire, unmotiv, shout, girlfriend, brought...   \n",
       "13      guilt  (think, not, studi, enough, weekend, think, ha...   \n",
       "14        joy         (pass, examin, did, not, think, did, well)   \n",
       "15       fear  (one, ha, arrang, meet, someon, person, arriv,...   \n",
       "16      anger           (unjustli, accus, someth, ha, not, done)   \n",
       "17    sadness  (one, studi, seem, hopelessli, difficult, unin...   \n",
       "18    disgust  (find, someon, know, not, had, thought, instan...   \n",
       "19      shame  (one, ha, been, unjust, stupid, toward, someon...   \n",
       "20      guilt     (one, ha, neglect, been, unjust, good, friend)   \n",
       "21        joy               (pass, exam, did, not, expect, pass)   \n",
       "22       fear  (climb, tree, pick, appl, angl, ladder, wa, di...   \n",
       "23      guilt                   (excus, are, necessari, get, do)   \n",
       "24        joy                                    (had, children)   \n",
       "25       fear  (year, old, son, climb, sat, 7th, floor, balco...   \n",
       "26      anger                 (partner, wa, attack, lost, teeth)   \n",
       "27    sadness   (see, children, t.v, area, devast, drought, war)   \n",
       "28    disgust  (nearli, walk, blindworm, then, saw, crawl, away)   \n",
       "29      shame  (saw, year, old, son, grab, oxygen, mask, had,...   \n",
       "...       ...                                                ...   \n",
       "7486    shame      (forgot, zip, trouser, wa, not, notic, anyon)   \n",
       "7487    guilt                                             (peep)   \n",
       "7488      joy     (had, picnic, old, classmat, chat, play, game)   \n",
       "7489     fear  (night, wa, alon, home, famili, member, usual,...   \n",
       "7490    anger  (saw, bed, hostel, wa, mess, guess, someon, el...   \n",
       "7491  sadness  (physic, experi, session, did, not, understand...   \n",
       "7492  disgust  (man, sexual, aggress, small, girl, bu, girl, ...   \n",
       "7493    shame                        (be, unabl, stop, urin, bu)   \n",
       "7494    guilt  (were, old, peopl, crowd, bu, did, not, have, ...   \n",
       "7495      joy  (wa, first, time, gave, birthday, present, fri...   \n",
       "7496     fear  (wa, week, higher, level, result, were, announ...   \n",
       "7497    anger  (surnam, brother, wa, differ, often, grin, hom...   \n",
       "7498  sadness  (wa, primari, father, die, wa, veri, young, th...   \n",
       "7499  disgust  (hostel, roommat, wa, veri, selfish, person, a...   \n",
       "7500    shame  (friend, had, mani, femal, friend, thought, we...   \n",
       "7501    guilt  (past, use, think, mother, wa, veri, nag, pers...   \n",
       "7502      joy  (august,1983, long, await, big, envelop, docum...   \n",
       "7503     fear  (christma, eve,1984, had, just, finish, exam, ...   \n",
       "7504    anger  (septemb, wa, forc, live, someon, did, not, fi...   \n",
       "7505  sadness  (issu, worri, rather, sadden, mid, septemb, we...   \n",
       "7506  disgust  (roommat, like, listen, meaningless, song, had...   \n",
       "7507    shame  (last, summer, went, camp, c.u, student, wa, w...   \n",
       "7508    guilt                                (lie, best, friend)   \n",
       "7509      joy                  (receiv, letter, distant, friend)   \n",
       "7510     fear  (parent, were, wa, eldest, home, midnight, mal...   \n",
       "7511    anger  (year, back, someon, invit, tutor, grand-daugh...   \n",
       "7512    shame  (had, taken, respons, someth, had, prepar, how...   \n",
       "7513     fear  (wa, home, heard, loud, sound, spit, door, tho...   \n",
       "7514    guilt  (did, not, homework, teacher, had, ask, wa, sc...   \n",
       "7515     fear  (had, shout, younger, brother, wa, alway, afra...   \n",
       "\n",
       "                                                      2  \\\n",
       "0     day feel close partner other friend feel peac ...   \n",
       "1     time imagin someon love contact seriou ill eve...   \n",
       "2     had been obvious unjustli treat had possibl el...   \n",
       "3     think short time live relat period life think ...   \n",
       "4     gather found involuntarili sit next peopl expr...   \n",
       "5     realiz wa direct feel discont partner way wa t...   \n",
       "6     feel guilti realiz consid materi thing more im...   \n",
       "7          girlfriend had taken exam went parent place    \n",
       "8                         first time realiz mean death    \n",
       "9                          car overtak forc drive road    \n",
       "10    recent thought hard work take studi want tri s...   \n",
       "11                        found bristl liver past tube    \n",
       "12    wa tire unmotiv shout girlfriend brought neg s...   \n",
       "13    think not studi enough weekend think have been...   \n",
       "14                  pass examin did not think did well    \n",
       "15    one ha arrang meet someon person arriv late me...   \n",
       "16                   unjustli accus someth ha not done    \n",
       "17      one studi seem hopelessli difficult uninterest    \n",
       "18    find someon know not had thought instanc frien...   \n",
       "19         one ha been unjust stupid toward someon els    \n",
       "20              one ha neglect been unjust good friend    \n",
       "21                       pass exam did not expect pass    \n",
       "22    climb tree pick appl angl ladder wa did not en...   \n",
       "23                          excus are necessari get do    \n",
       "24                                        had children    \n",
       "25    year old son climb sat 7th floor balconi leg h...   \n",
       "26                        partner wa attack lost teeth    \n",
       "27            see children t.v area devast drought war    \n",
       "28           nearli walk blindworm then saw crawl away    \n",
       "29    saw year old son grab oxygen mask had breath d...   \n",
       "...                                                 ...   \n",
       "7486             forgot zip trouser wa not notic anyon    \n",
       "7487                                              peep    \n",
       "7488            had picnic old classmat chat play game    \n",
       "7489  night wa alon home famili member usual get tog...   \n",
       "7490  saw bed hostel wa mess guess someon els had us...   \n",
       "7491  physic experi session did not understand conte...   \n",
       "7492  man sexual aggress small girl bu girl did not ...   \n",
       "7493                             be unabl stop urin bu    \n",
       "7494  were old peopl crowd bu did not have courag gi...   \n",
       "7495  wa first time gave birthday present friend wro...   \n",
       "7496  wa week higher level result were announc had t...   \n",
       "7497  surnam brother wa differ often grin home provo...   \n",
       "7498  wa primari father die wa veri young then did n...   \n",
       "7499  hostel roommat wa veri selfish person avoid do...   \n",
       "7500  friend had mani femal friend thought were love...   \n",
       "7501  past use think mother wa veri nag person start...   \n",
       "7502  august,1983 long await big envelop document c....   \n",
       "7503  christma eve,1984 had just finish exam wa afra...   \n",
       "7504  septemb wa forc live someon did not first week...   \n",
       "7505  issu worri rather sadden mid septemb went guan...   \n",
       "7506  roommat like listen meaningless song had melod...   \n",
       "7507  last summer went camp c.u student wa work then...   \n",
       "7508                                   lie best friend    \n",
       "7509                      receiv letter distant friend    \n",
       "7510  parent were wa eldest home midnight male stran...   \n",
       "7511  year back someon invit tutor grand-daught gran...   \n",
       "7512  had taken respons someth had prepar howev fail...   \n",
       "7513  wa home heard loud sound spit door thought fam...   \n",
       "7514  did not homework teacher had ask wa scold immedi    \n",
       "7515  had shout younger brother wa alway afraid call...   \n",
       "\n",
       "                                                      3          4  \n",
       "0     [day, feel, close, partner, other, friend, fee...      [joy]  \n",
       "1     [time, imagin, someon, love, contact, seriou, ...     [fear]  \n",
       "2     [had, been, obvious, unjustli, treat, had, pos...    [anger]  \n",
       "3     [think, short, time, live, relat, period, life...  [sadness]  \n",
       "4     [gather, found, involuntarili, sit, next, peop...  [disgust]  \n",
       "5     [realiz, wa, direct, feel, discont, partner, w...    [shame]  \n",
       "6     [feel, guilti, realiz, consid, materi, thing, ...    [guilt]  \n",
       "7     [girlfriend, had, taken, exam, went, parent, p...      [joy]  \n",
       "8                    [first, time, realiz, mean, death]     [fear]  \n",
       "9                     [car, overtak, forc, drive, road]    [anger]  \n",
       "10    [recent, thought, hard, work, take, studi, wan...  [sadness]  \n",
       "11                   [found, bristl, liver, past, tube]  [disgust]  \n",
       "12    [wa, tire, unmotiv, shout, girlfriend, brought...    [shame]  \n",
       "13    [think, not, studi, enough, weekend, think, ha...    [guilt]  \n",
       "14           [pass, examin, did, not, think, did, well]      [joy]  \n",
       "15    [one, ha, arrang, meet, someon, person, arriv,...     [fear]  \n",
       "16             [unjustli, accus, someth, ha, not, done]    [anger]  \n",
       "17    [one, studi, seem, hopelessli, difficult, unin...  [sadness]  \n",
       "18    [find, someon, know, not, had, thought, instan...  [disgust]  \n",
       "19    [one, ha, been, unjust, stupid, toward, someon...    [shame]  \n",
       "20       [one, ha, neglect, been, unjust, good, friend]    [guilt]  \n",
       "21                 [pass, exam, did, not, expect, pass]      [joy]  \n",
       "22    [climb, tree, pick, appl, angl, ladder, wa, di...     [fear]  \n",
       "23                     [excus, are, necessari, get, do]    [guilt]  \n",
       "24                                      [had, children]      [joy]  \n",
       "25    [year, old, son, climb, sat, 7th, floor, balco...     [fear]  \n",
       "26                   [partner, wa, attack, lost, teeth]    [anger]  \n",
       "27     [see, children, t.v, area, devast, drought, war]  [sadness]  \n",
       "28    [nearli, walk, blindworm, then, saw, crawl, away]  [disgust]  \n",
       "29    [saw, year, old, son, grab, oxygen, mask, had,...    [shame]  \n",
       "...                                                 ...        ...  \n",
       "7486      [forgot, zip, trouser, wa, not, notic, anyon]    [shame]  \n",
       "7487                                             [peep]    [guilt]  \n",
       "7488     [had, picnic, old, classmat, chat, play, game]      [joy]  \n",
       "7489  [night, wa, alon, home, famili, member, usual,...     [fear]  \n",
       "7490  [saw, bed, hostel, wa, mess, guess, someon, el...    [anger]  \n",
       "7491  [physic, experi, session, did, not, understand...  [sadness]  \n",
       "7492  [man, sexual, aggress, small, girl, bu, girl, ...  [disgust]  \n",
       "7493                        [be, unabl, stop, urin, bu]    [shame]  \n",
       "7494  [were, old, peopl, crowd, bu, did, not, have, ...    [guilt]  \n",
       "7495  [wa, first, time, gave, birthday, present, fri...      [joy]  \n",
       "7496  [wa, week, higher, level, result, were, announ...     [fear]  \n",
       "7497  [surnam, brother, wa, differ, often, grin, hom...    [anger]  \n",
       "7498  [wa, primari, father, die, wa, veri, young, th...  [sadness]  \n",
       "7499  [hostel, roommat, wa, veri, selfish, person, a...  [disgust]  \n",
       "7500  [friend, had, mani, femal, friend, thought, we...    [shame]  \n",
       "7501  [past, use, think, mother, wa, veri, nag, pers...    [guilt]  \n",
       "7502  [august,1983, long, await, big, envelop, docum...      [joy]  \n",
       "7503  [christma, eve,1984, had, just, finish, exam, ...     [fear]  \n",
       "7504  [septemb, wa, forc, live, someon, did, not, fi...    [anger]  \n",
       "7505  [issu, worri, rather, sadden, mid, septemb, we...  [sadness]  \n",
       "7506  [roommat, like, listen, meaningless, song, had...  [disgust]  \n",
       "7507  [last, summer, went, camp, c.u, student, wa, w...    [shame]  \n",
       "7508                                [lie, best, friend]    [guilt]  \n",
       "7509                  [receiv, letter, distant, friend]      [joy]  \n",
       "7510  [parent, were, wa, eldest, home, midnight, mal...     [fear]  \n",
       "7511  [year, back, someon, invit, tutor, grand-daugh...    [anger]  \n",
       "7512  [had, taken, respons, someth, had, prepar, how...    [shame]  \n",
       "7513  [wa, home, heard, loud, sound, spit, door, tho...     [fear]  \n",
       "7514  [did, not, homework, teacher, had, ask, wa, sc...    [guilt]  \n",
       "7515  [had, shout, younger, brother, wa, alway, afra...     [fear]  \n",
       "\n",
       "[7516 rows x 5 columns]"
      ]
     },
     "execution_count": 133,
     "metadata": {},
     "output_type": "execute_result"
    }
   ],
   "source": [
    "c"
   ]
  },
  {
   "cell_type": "code",
   "execution_count": 134,
   "metadata": {
    "collapsed": true
   },
   "outputs": [],
   "source": [
    "'''\n",
    "Reads the emotion representative words file\n",
    "'''\n",
    "def readfile(filename):\n",
    "    f = open(filename,'r')\n",
    "    representative_words = []\n",
    "    for line in f.readlines():\n",
    "        characters = [\"\\n\", \" \", \"\\r\", \"\\t\"]\n",
    "        new = ''.join([i for i in line if not [e for e in characters if e in i]])\n",
    "        representative_words.append(new)\n",
    "    return representative_words"
   ]
  },
  {
   "cell_type": "code",
   "execution_count": 135,
   "metadata": {
    "collapsed": true
   },
   "outputs": [],
   "source": [
    "'''\n",
    "Makes a list of all words semantically related to an emotion and Stemming\n",
    "'''\n",
    "def affect_wordlist(words):\n",
    "    affect_words = []\n",
    "    stemmer = PorterStemmer()\n",
    "    for w in words:\n",
    "        w_l = w.lower()\n",
    "        word_stem = stemmer.stem(w_l)\n",
    "        if word_stem not in affect_words:\n",
    "            affect_words.append(word_stem)\n",
    "    return affect_words"
   ]
  },
  {
   "cell_type": "code",
   "execution_count": 136,
   "metadata": {
    "collapsed": true
   },
   "outputs": [],
   "source": [
    "'''\n",
    "Creating an emotion wordnet\n",
    "'''\n",
    "def emotion_word_set(emotions):\n",
    "    word_set = {}\n",
    "    for e in emotions:\n",
    "        representative_words = readfile(e)\n",
    "        wordlist = affect_wordlist(representative_words)\n",
    "        word_set[e] = wordlist\n",
    "    return word_set"
   ]
  },
  {
   "cell_type": "code",
   "execution_count": 137,
   "metadata": {
    "collapsed": true
   },
   "outputs": [],
   "source": [
    "'''\n",
    "Lexicon based approach - Check for lexicons\n",
    "'''\n",
    "def lexicon_based(sentences, word_set):\n",
    "    text_vector = []\n",
    "    for sen in sentences:\n",
    "        s_vector = []\n",
    "        for word in sen:\n",
    "            w_vector = {}\n",
    "            for emo in word_set:\n",
    "                if word in word_set[emo]:\n",
    "#                     print word\n",
    "                    try:\n",
    "                        if emo not in w_vector[word]:\n",
    "                            w_vector[word].append(emo)\n",
    "                    except KeyError:\n",
    "                        w_vector[word] = [emo]\n",
    "            if w_vector:\n",
    "                s_vector.append(w_vector)\n",
    "        if not s_vector:\n",
    "            text_vector.append(s_vector)\n",
    "        else:\n",
    "            text_vector.append(s_vector)\n",
    "    return text_vector"
   ]
  },
  {
   "cell_type": "code",
   "execution_count": 138,
   "metadata": {
    "collapsed": false
   },
   "outputs": [],
   "source": [
    "'''\n",
    "Lexicon based approach - Classify based on lexicons\n",
    "'''\n",
    "def classify_lexicon(text_vector, labels, emotion_labels):\n",
    "    count = 0\n",
    "    total = 0\n",
    "    for j in range(len(text_vector)):\n",
    "        sen = text_vector[j]\n",
    "        sen_emo = np.empty(len(emotion_labels))\n",
    "        sen_emo.fill(0)\n",
    "        if sen:\n",
    "            total += 1\n",
    "            w_emo = []\n",
    "            for word in sen:\n",
    "                emotions =  word.values()[0][0]\n",
    "#                 print emotions, type(emotions), j\n",
    "                w_emo.append(emotions)\n",
    "                i = emotion_labels.index(emotions)\n",
    "                sen_emo[i] += 1\n",
    "#             print sen_emo\n",
    "            winner = np.argwhere(sen_emo == np.amax(sen_emo))\n",
    "            indices = winner.flatten().tolist()\n",
    "            for i in indices:\n",
    "                if emotion_labels[i] == labels[j]:\n",
    "                    count += 1\n",
    "                    break\n",
    "#                 else:\n",
    "#                     print j, text_vector[j]\n",
    "    accuracy = count/len(text_vector)\n",
    "    tot_accuracy = count/total\n",
    "    return accuracy, tot_accuracy"
   ]
  },
  {
   "cell_type": "code",
   "execution_count": 139,
   "metadata": {
    "collapsed": false
   },
   "outputs": [
    {
     "name": "stdout",
     "output_type": "stream",
     "text": [
      "0.22738158595 0.539797852179\n"
     ]
    }
   ],
   "source": [
    "e = emotion_word_set(emotion_labels)\n",
    "l = lexicon_based(c[1],e) \n",
    "a, b = classify_lexicon(l, c[0], emotion_labels)\n",
    "print a, b"
   ]
  },
  {
   "cell_type": "code",
   "execution_count": 140,
   "metadata": {
    "collapsed": true
   },
   "outputs": [],
   "source": [
    "'''\n",
    "Calculate pmi\n",
    "'''\n",
    "def pmi(x, y, sentences):\n",
    "    count_x = 1\n",
    "    count_y = 1\n",
    "    count_xy = 1\n",
    "    for sen in sentences:\n",
    "        if x and y in sentences:\n",
    "            count_xy += 1\n",
    "            count_x += 1\n",
    "            count_y += 1\n",
    "        if x in sentences:\n",
    "            count_x += 1\n",
    "        if y in sentences:\n",
    "            count_y += 1\n",
    "        result = count_xy/(count_x * count_y)\n",
    "    return result"
   ]
  },
  {
   "cell_type": "code",
   "execution_count": 141,
   "metadata": {
    "collapsed": false
   },
   "outputs": [
    {
     "name": "stdout",
     "output_type": "stream",
     "text": [
      "22.738158595 %\n",
      "53.9797852179 %\n"
     ]
    }
   ],
   "source": [
    "print a*100, '%'\n",
    "print b*100, \"%\""
   ]
  },
  {
   "cell_type": "code",
   "execution_count": 142,
   "metadata": {
    "collapsed": false
   },
   "outputs": [
    {
     "data": {
      "text/plain": [
       "'\\nEmotion Detector\\n'"
      ]
     },
     "execution_count": 142,
     "metadata": {},
     "output_type": "execute_result"
    }
   ],
   "source": [
    "'''\n",
    "Emotion Detector\n",
    "'''\n",
    "# c = create_frame(Data)\n",
    "# emo_word_net = emotion_word_set(emotion_set)"
   ]
  },
  {
   "cell_type": "code",
   "execution_count": 143,
   "metadata": {
    "collapsed": false
   },
   "outputs": [],
   "source": [
    "'''\n",
    "Getting synonyms from wordnet synsets\n",
    "'''\n",
    "def get_synonyms():\n",
    "    syn = {}\n",
    "    for e in emotion_labels:\n",
    "        jw = wn.synsets(e)\n",
    "        for s in jw:\n",
    "            v = s.name()\n",
    "            try:\n",
    "                syn[e].append(wn.synset(v).lemma_names())\n",
    "            except KeyError:\n",
    "                syn[e] = wn.synset(v).lemma_names()"
   ]
  },
  {
   "cell_type": "code",
   "execution_count": 144,
   "metadata": {
    "collapsed": true
   },
   "outputs": [],
   "source": [
    "'''\n",
    "Creating training/testing set for Naive Bayes classifier TextBlob -- Not used\n",
    "'''\n",
    "def create_dataset_textblob(sentences, emotions):\n",
    "    train = []\n",
    "    sen = []\n",
    "    emo = []\n",
    "    for s in sentences:\n",
    "        sen.append(s)\n",
    "    for e in emotions:\n",
    "        emo.append(e)\n",
    "    for i in range(len(sen)):\n",
    "        s = sen[i]\n",
    "        e = emo[i]\n",
    "        train.append((str(s), e))\n",
    "    return train"
   ]
  },
  {
   "cell_type": "code",
   "execution_count": 145,
   "metadata": {
    "collapsed": false
   },
   "outputs": [],
   "source": [
    "'''\n",
    "Testing for Naive Bayes Classifier\n",
    "'''\n",
    "def testing(cl, test):\n",
    "    for s, e in test:\n",
    "        r = cl.classify(s)\n",
    "        print s, e, r\n",
    "        if r == e:\n",
    "            print \"*\""
   ]
  },
  {
   "cell_type": "code",
   "execution_count": 146,
   "metadata": {
    "collapsed": false
   },
   "outputs": [],
   "source": [
    "'''\n",
    "Create dataset for nltk Naive Bayes\n",
    "'''\n",
    "def create_data(sentence, emotion):\n",
    "    data = []\n",
    "    for i in range(len(sentence)):\n",
    "        sen = []\n",
    "        for s in sentence[i]:\n",
    "            sen.append(str(s))\n",
    "        emo = emotion[i]\n",
    "        data.append((sen, emo))\n",
    "    return data"
   ]
  },
  {
   "cell_type": "code",
   "execution_count": 147,
   "metadata": {
    "collapsed": true
   },
   "outputs": [],
   "source": [
    "'''\n",
    "Get all words in dataset\n",
    "'''\n",
    "def get_words_in_dataset(dataset):\n",
    "    all_words = []\n",
    "    for (words, sentiment) in dataset:\n",
    "        all_words.extend(words)\n",
    "    return all_words"
   ]
  },
  {
   "cell_type": "code",
   "execution_count": 148,
   "metadata": {
    "collapsed": true
   },
   "outputs": [],
   "source": [
    "'''\n",
    "Getting frequency dist of words\n",
    "'''\n",
    "def get_word_features(wordlist):\n",
    "    wordlist = nltk.FreqDist(wordlist)\n",
    "    word_features = wordlist.keys()\n",
    "    return word_features"
   ]
  },
  {
   "cell_type": "code",
   "execution_count": 149,
   "metadata": {
    "collapsed": true
   },
   "outputs": [],
   "source": [
    "'''\n",
    "Extacting features\n",
    "'''\n",
    "def extract_features(document):\n",
    "    document_words = set(document)\n",
    "    features = {}\n",
    "    for word in word_features:\n",
    "        features['contains(%s)' % word] = (word in document_words)\n",
    "    return features"
   ]
  },
  {
   "cell_type": "code",
   "execution_count": 150,
   "metadata": {
    "collapsed": true
   },
   "outputs": [],
   "source": [
    "'''\n",
    "Create test data\n",
    "'''\n",
    "def create_test(sentence, emotion):\n",
    "    data = []\n",
    "    sen = []\n",
    "    emo = []\n",
    "    for s in sentence:\n",
    "        sen.append(str(s))\n",
    "    for e in emotion:\n",
    "        emo.append(e)\n",
    "    for i in range(len(sen)):\n",
    "        temp = []\n",
    "        temp.append(sen[i])\n",
    "        temp.append(emo[i])\n",
    "        data.append(temp)\n",
    "    return data"
   ]
  },
  {
   "cell_type": "code",
   "execution_count": 151,
   "metadata": {
    "collapsed": true
   },
   "outputs": [],
   "source": [
    "'''\n",
    "Classifier\n",
    "'''\n",
    "def classify_dataset(data):\n",
    "    return \\\n",
    "        classifier.classify(extract_features(nltk.word_tokenize(data)))"
   ]
  },
  {
   "cell_type": "code",
   "execution_count": 152,
   "metadata": {
    "collapsed": true
   },
   "outputs": [],
   "source": [
    "'''\n",
    "Get accuracy\n",
    "'''\n",
    "def get_accuracy(test_data, classifier):\n",
    "    total = accuracy = float(len(test_data))\n",
    "    for data in test_data:\n",
    "        if classify_dataset(data[0]) != data[1]:\n",
    "            print data, classify_dataset(data[0]), data[1]\n",
    "            accuracy -= 1\n",
    "    print('Total accuracy: %f%% (%d/20).' % (accuracy / total * 100, accuracy))"
   ]
  },
  {
   "cell_type": "code",
   "execution_count": 153,
   "metadata": {
    "collapsed": false
   },
   "outputs": [],
   "source": [
    "# Create training and testing data\n",
    "sen = c[3]\n",
    "emo = c[0]\n",
    "l = len(c[3])\n",
    "limit = (9*l)//10\n",
    "sente = c[2]\n",
    "Data = create_data(sen[:limit], emo[:limit])\n",
    "test_data = create_test(sente[limit:], emo[limit:]) "
   ]
  },
  {
   "cell_type": "code",
   "execution_count": 154,
   "metadata": {
    "collapsed": false
   },
   "outputs": [],
   "source": [
    "# extract the word features out from the training data\n",
    "word_features = get_word_features(\\\n",
    "                    get_words_in_dataset(Data))"
   ]
  },
  {
   "cell_type": "code",
   "execution_count": 155,
   "metadata": {
    "collapsed": true
   },
   "outputs": [],
   "source": [
    "# get the training set and train the Naive Bayes Classifier\n",
    "training_set = nltk.classify.util.apply_features(extract_features, Data)\n",
    "classifier = NaiveBayesClassifier.train(training_set)"
   ]
  },
  {
   "cell_type": "code",
   "execution_count": 156,
   "metadata": {
    "collapsed": false
   },
   "outputs": [
    {
     "name": "stdout",
     "output_type": "stream",
     "text": [
      "['not be good host friend far away place ', 'guilt'] joy guilt\n",
      "['listen horrot stori night ', 'fear'] disgust fear\n",
      "['find not abl student thought ', 'fear'] sadness fear\n",
      "['wa told someth did not want ', 'anger'] guilt anger\n",
      "['find china still backward scienc ', 'sadness'] joy sadness\n",
      "['just arriv univers not know anybodi ', 'fear'] shame fear\n",
      "['find lectur china backward psycholog ', 'shame'] joy shame\n",
      "['join research group studi consum behaviour help peopl shop sale ', 'joy'] disgust joy\n",
      "['not win medal swim contest ', 'sadness'] joy sadness\n",
      "['exam ', 'fear'] joy fear\n",
      "['be togeth best friend ', 'joy'] sadness joy\n",
      "['wa not chosen english lectur ', 'sadness'] shame sadness\n",
      "['find class leader lectur english wors mine ', 'sadness'] anger sadness\n",
      "['hate not let found wa not decis ', 'guilt'] anger guilt\n",
      "['heard postgradu student talk girl be unsiut medicin ', 'disgust'] joy disgust\n",
      "['fail exam ', 'sadness'] joy sadness\n",
      "['watch horror film ', 'fear'] disgust fear\n",
      "['find english lectur ', 'joy'] sadness joy\n",
      "['fail univers entranc examn ', 'shame'] joy shame\n",
      "['first time anatomi ', 'fear'] joy fear\n",
      "['find china poor not have good refer book ', 'sadness'] shame sadness\n",
      "['made statement other peopl did not believ ', 'anger'] shame anger\n",
      "['saw poverti countrysid ', 'shame'] disgust shame\n",
      "['girl dress foreign univers ', 'disgust'] joy disgust\n",
      "['found travel best friend ', 'joy'] sadness joy\n",
      "['find not ill not serious ', 'joy'] sadness joy\n",
      "['find health condit attend univers lectur ', 'fear'] joy fear\n",
      "['bought someth bad shop refus chang ', 'anger'] guilt anger\n",
      "['first public speak ', 'joy'] shame joy\n",
      "['went lectur chines histori hear opium war ', 'shame'] joy shame\n",
      "['friend still trust friend ', 'sadness'] joy sadness\n",
      "['someon be arrog ', 'disgust'] joy disgust\n",
      "['talk close friend ', 'joy'] sadness joy\n",
      "['found best friend are chosen english lectur ', 'joy'] shame joy\n",
      "['saw veri arrog girl walk queen ', 'disgust'] joy disgust\n",
      "['talk close friend ', 'joy'] sadness joy\n",
      "['father promot professor ', 'joy'] shame joy\n",
      "['found girl love love too ', 'joy'] shame joy\n",
      "['be refus attend neuropsycholog lectur medic univers ', 'anger'] joy anger\n",
      "['saw arrog girl walk pass ', 'disgust'] joy disgust\n",
      "['someon had stolen articl librari journal ', 'disgust'] anger disgust\n",
      "['not finish homework time ', 'guilt'] shame guilt\n",
      "['ask someon bring present father found not reliabl person wa afraid father not get present angri ', 'fear'] guilt fear\n",
      "['classmat said did not enough social work therefor wa not elect tree good student ', 'anger'] guilt anger\n",
      "[\"father n't pleas wa elect good \", 'sadness'] joy sadness\n",
      "['roommat lack consider ', 'disgust'] anger disgust\n",
      "['sister said not stabl person think right ', 'shame'] guilt shame\n",
      "['not be abl well chosen english lectur ', 'sadness'] shame sadness\n",
      "['roommat boast english lectur ', 'disgust'] anger disgust\n",
      "['boy told nicknam littl girl doctor did not tell laugh ', 'guilt'] shame guilt\n",
      "['rel visit ', 'joy'] sadness joy\n",
      "['find great differ china west scienc ', 'fear'] joy fear\n",
      "['found wife pregnant ', 'joy'] sadness joy\n",
      "['find girl have been nice class leader order neuropsycholog lectur english one ', 'anger'] disgust anger\n",
      "['fail piblic argument ', 'shame'] sadness shame\n",
      "['promis someth other peopl did not ', 'guilt'] shame guilt\n",
      "['find lectur doctor make misdiagnos ignor neuropsycholog ', 'fear'] disgust fear\n",
      "['student deliber disobey class leader ', 'disgust'] anger disgust\n",
      "['find china backward scienc ', 'shame'] joy shame\n",
      "['student have been call lectur nicknam wa not abl find were stop ', 'guilt'] anger guilt\n",
      "['find boy not like love ', 'fear'] sadness fear\n",
      "['be told have not got person ', 'anger'] guilt anger\n",
      "['power cut made unabl listen song sung favourit pop star ', 'sadness'] disgust sadness\n",
      "['someon act stupid public ', 'disgust'] shame disgust\n",
      "['said someth not have said public ', 'guilt'] shame guilt\n",
      "['talk close friend ', 'joy'] sadness joy\n",
      "['insult other peopl shop ', 'anger'] disgust anger\n",
      "['be look someon not ', 'disgust'] shame disgust\n",
      "['wa not abl explain well good friend make less angri ', 'guilt'] anger guilt\n",
      "['find person love understand ', 'joy'] sadness joy\n",
      "['watch horror film ', 'fear'] disgust fear\n",
      "['be mistreat other peopl ', 'anger'] disgust anger\n",
      "['deceiv other peopl ran troubl ', 'sadness'] shame sadness\n",
      "['find have misunderstood other peopl ', 'guilt'] anger guilt\n",
      "['parent fail visit promis ', 'sadness'] guilt sadness\n",
      "['saw china not win more gold medal asian olymp ', 'shame'] anger shame\n",
      "['not hand homework time ', 'guilt'] shame guilt\n",
      "['saw classmat knock down motorcycl ', 'fear'] disgust fear\n",
      "['be sexual assult bu noon help peopl onli laugh ', 'anger'] shame anger\n",
      "['be sexual assult told friend cri togeth ', 'sadness'] guilt sadness\n",
      "['heard someon boast fortun tell knew wa lie ', 'disgust'] shame disgust\n",
      "['iqam chosen lectur best friend not now angri not help ', 'sadness'] anger sadness\n",
      "['listen roommat boast new cloth ', 'disgust'] anger disgust\n",
      "['china not win more gold medal asian olymp ', 'shame'] anger shame\n",
      "['not be abl help friend studi english ', 'guilt'] sadness guilt\n",
      "['prejudic psycholog student educ student not allow medic univers lectur ', 'anger'] joy anger\n",
      "['wrongli accus classmat ', 'guilt'] anger guilt\n",
      "['first time anatomi ', 'fear'] joy fear\n",
      "['be insult public wrong reason ', 'anger'] shame anger\n",
      "['not be chosen english lectur girl-friend chosen ', 'sadness'] shame sadness\n",
      "['roommat mess room ', 'disgust'] anger disgust\n",
      "['heard girl-friend wa chosen english lectur wa not lost temper veri upset now ', 'guilt'] sadness guilt\n",
      "['help someon someth wa found ', 'fear'] guilt fear\n",
      "['misunderstood friend ', 'anger'] sadness anger\n",
      "['china not do well asian olymp game ', 'shame'] joy shame\n",
      "['examn ', 'fear'] joy fear\n",
      "['foreign student play loud music biolog examn ', 'anger'] shame anger\n",
      "['find china doe not have enough foreign currenc buy book ', 'shame'] anger shame\n",
      "['call lectur nicknam talk housemen told are even younger are not give public lectur ', 'guilt'] shame guilt\n",
      "['had letter father usual doe not write ', 'joy'] anger joy\n",
      "['quarrel classmat ', 'anger'] disgust anger\n",
      "['roommat talk shake bed night ', 'disgust'] fear disgust\n",
      "['find wa deceiv friend ', 'shame'] anger shame\n",
      "['friend came visit wa not there ', 'guilt'] sadness guilt\n",
      "['find china backward scienc ', 'shame'] joy shame\n",
      "['best friend betray told other peopl secret ', 'anger'] shame anger\n",
      "['find peopl had been talk back ', 'disgust'] anger disgust\n",
      "['did not repli friend letter time ', 'guilt'] joy guilt\n",
      "['talk snake ', 'fear'] disgust fear\n",
      "['be insult bu ', 'anger'] disgust anger\n",
      "['insult mother ', 'sadness'] shame sadness\n",
      "['rel not act promis ', 'disgust'] guilt disgust\n",
      "['friend want give surpris room thought wa steal room ', 'guilt'] shame guilt\n",
      "['be ask someon care ', 'joy'] guilt joy\n",
      "['import examn ', 'fear'] joy fear\n",
      "['parent not friend told stay away ', 'anger'] sadness anger\n",
      "['friend not allow english lectur ', 'sadness'] anger sadness\n",
      "['friend did not well examn did not help ', 'guilt'] shame guilt\n",
      "['quarrel brother twin home saturday studi privat school other repeat form not know are do follow word teacher book system alway tri ration bad act game are satisfi awkward life have tri persuad veri often have fail time had fight have voluntari spirit did not polish floor ', 'anger'] shame anger\n",
      "['have been think chang major few month origin major wa chines languag block way have face mani problem sametim not know real virtuou not know not interest chines are other factor make sad not veri clear studi commun journal not clear are limit hesit feel more adjust now ', 'sadness'] anger sadness\n",
      "['had obvious done work badli class-mat student associ did not blame help work ', 'shame'] anger shame\n",
      "['doctor told wa someth wrong eye had undergo oper ', 'fear'] guilt fear\n",
      "['had left student newspap chines univers tabl librari had disappear came back ', 'anger'] joy anger\n",
      "['someon wa sit veri close wa smoknig compart air condit mini-bu ', 'disgust'] fear disgust\n",
      "['compart public transport railway did not give seat old man wa stand wa teenag did ', 'shame'] disgust shame\n",
      "['had too much homework examin did not know organ work ', 'anger'] shame anger\n",
      "['forgot lyric song contest ', 'sadness'] joy sadness\n",
      "['examin had studi night day ', 'disgust'] joy disgust\n",
      "['did badli mid term examin ', 'shame'] sadness shame\n",
      "['result mid term examin were veri poor ', 'guilt'] joy guilt\n",
      "['greet friend did not respond ', 'disgust'] shame disgust\n",
      "['cut friend hair anger consider ', 'guilt'] anger guilt\n",
      "['last week organ summon execut meet execut member point loop hole committe administr not suggest improv quarrel ', 'anger'] guilt anger\n",
      "['got late not lesson time enter class room stare teacher classmat made feel guilti ', 'guilt'] shame guilt\n",
      "['had ask teacher write recommend letter had not provid enough inform had run short time ', 'sadness'] shame sadness\n",
      "['companion admir did work voluntarili ', 'shame'] joy shame\n",
      "['receiv higher level result mistook grade mathemat grade wa shock ', 'fear'] joy fear\n",
      "['onc had start write paper wa phone call had downstair receiv convers discov inform had disappear mind ', 'disgust'] shame disgust\n",
      "['trick wa realli intoler hid wa worri restless day saw realli want slap ', 'anger'] shame anger\n",
      "['were walk along new asia stairway chung chi colleg lectur saw put arm shoulder laugher brightli joy did not dare did not want look just walk quickli interest talk disappear just want remain silent did not want know left went have expect happen ', 'sadness'] fear sadness\n",
      "['know had survey felt veri reluct not know feel disgust just look think project last sever day regret have join project ', 'disgust'] sadness disgust\n",
      "['wa scold mother reason ', 'anger'] guilt anger\n",
      "['learnt had been betray friend ', 'sadness'] joy sadness\n",
      "['dine new friend kept remind wa superior ', 'disgust'] anger disgust\n",
      "['dine accquaint wa ask someth have known did not know ', 'shame'] guilt shame\n",
      "['friend came concert sake wa had organ concert wa unsuccess ', 'guilt'] joy guilt\n",
      "['wait result high level examin wa afraid not be accept ', 'fear'] joy fear\n",
      "['quarrel parent ', 'sadness'] guilt sadness\n",
      "['refus lend homework friend ', 'guilt'] shame guilt\n",
      "['day wa sit not veri crowd bu middl age woman wa stand person sit next got get woman push occupi seat then took shoe put feet seat ', 'disgust'] fear disgust\n",
      "['saw horribl movi alien ', 'fear'] disgust fear\n",
      "['result univers entranc exam were veri poor far had expect thought not accept univers ', 'sadness'] joy sadness\n",
      "['even went fish friend not fish fisherman had alreadi put net pull net find onli crab threw net away net wa larg have cost fisherman use net earn live had had thrown ', 'guilt'] anger guilt\n",
      "['had veri close friend went canada f.b departur wa unavoid came back summer holiday wa veri happi noth had chang ', 'joy'] sadness joy\n",
      "['day univers result came wa excit scare fail did not know did not want work famili wa ambival ', 'fear'] guilt fear\n",
      "['certif examin wa veri poor biolog worst result class ever f.5 had been get poorer poorer had tri best had spent most time studi subject final result were bad thought wa just not fair ', 'anger'] joy anger\n",
      "['younger sister want take class learn music instrument saturday morn mother ask registr did not want said mani bad peopl club resullt sister wa scold mother ', 'guilt'] anger guilt\n",
      "['forgot line play orient camp ', 'fear'] shame fear\n",
      "['depart meet friend ate dish had prepar meet ', 'anger'] shame anger\n",
      "['had veri short term romanc summer vacat first met felt excit want avoid had met few time propos stay apart felt veri sad then ', 'sadness'] joy sadness\n",
      "['year old grandfath underw success oper singl year third oper wa riski wa scare die fear grandmoth veri sad ', 'fear'] sadness fear\n",
      "['elder brother often critic mother cook onc did veri impolit lost temper made veri sad wa veri angri scold ask not interfer wa buis ', 'anger'] guilt anger\n",
      "['wa instructior youth organ instructor have meet advisor present did not understand worknig condit talk lot had lot outdat idea disagre wa veri discont said had prejudic did have treat subordin ', 'disgust'] shame disgust\n",
      "['receiv academ result learnt result were bad had not done best result accquaint were good ask result realli did not want answer ', 'shame'] guilt shame\n",
      "['finish homework ', 'joy'] shame joy\n",
      "['took draw pen have ask permiss first lost did not tell till ask then did not tri find ', 'anger'] guilt anger\n",
      "['learnt had repeat first year found solut immedi wa block mani difficulti ', 'sadness'] joy sadness\n",
      "['girlfriend lost temper reason did not consid respect feel ', 'disgust'] guilt disgust\n",
      "['pray unfaith ', 'guilt'] sadness guilt\n",
      "['cassmat laugh wa be scold teacher ', 'anger'] shame anger\n",
      "['knew girl love everyon like refus accept christma present tri forget ', 'sadness'] joy sadness\n",
      "['separ like most refus date told had date heart seem ceas beat wa silent time then whisper goodby left turn ', 'sadness'] anger sadness\n",
      "['wa teacher even school girl rais lot question express opinion veri often took stand wa differ mine thought wa better mine opinion were help academ did not take consider posit public also seem veri talk disgust ', 'disgust'] anger disgust\n",
      "['wa cold sister mean just wa upset frustat ', 'guilt'] sadness guilt\n",
      "['had been separ girlfriend year birthday put present mailbox had spent day choos suitabl present wait few day wa repli last receiv thank-you card mailbox card wa onli name word thank-you signatur wa veri sad then ', 'sadness'] joy sadness\n",
      "['rememb form teacher wa veri fierc dogmat feet trembl saw had face fact had class ', 'fear'] shame fear\n",
      "['got midterm exam result result were below averag were lowest wa scare final exam ', 'fear'] joy fear\n",
      "['came back hostel bed wa full newspap dirti cloth room-mat ask wash cloth had time wa respons food share had been eaten ate littl ', 'anger'] disgust anger\n",
      "['sister wa impolit father famili wa have lunch togeth restaur thought parent had been prejud wa extrem thought ', 'sadness'] shame sadness\n",
      "['wa give privat tutori student not concentr wa lazi had not done home work had assign academ level wa veri low wa nuisanc ', 'disgust'] guilt disgust\n",
      "['fear not abl hand book-report time had start work veri late book wa difficult read teacher did not accept work wa hand late ', 'fear'] shame fear\n",
      "['classmat alway borrow note not return time had test wa selfish irrespons delay studi ', 'anger'] guilt anger\n",
      "['found cold had hurt somebodi sincer ', 'sadness'] guilt sadness\n",
      "['wa studi someon disturb ', 'disgust'] sadness disgust\n",
      "['teacher said be univers studet did not have self-in self-control ', 'shame'] guilt shame\n",
      "['took french leav homework ', 'guilt'] sadness guilt\n",
      "['realiz fellow member had grown spiritu wa leader spiritu group had pray did not want burn incens mother forc final mother told discontinu got good result school ', 'joy'] anger joy\n",
      "['saw lot starv peopl t.v news report ', 'sadness'] disgust sadness\n",
      "['neighbour came gossip other parent ', 'disgust'] shame disgust\n",
      "['promis friend return book owner forgot ', 'shame'] guilt shame\n",
      "['saw blue film cinema ', 'guilt'] disgust guilt\n",
      "['hour receiv certif result wa veri frighten saw other cri felt veri tens time went fear grew ', 'fear'] joy fear\n",
      "['recent meet mr. show excit overindulg note deliv curios not blame way accquir knowledg wa extrem behaviour e.g alway tri know wa read gain everyth ', 'disgust'] anger disgust\n",
      "['wa do homework home rel came advis help mother house-work ', 'shame'] guilt shame\n",
      "['quarrel brother broke glass door cupboard china doll were scold father break door did not tell door ', 'guilt'] anger guilt\n",
      "['inter-colleg basket-bal match ', 'fear'] joy fear\n",
      "['summer holiday job wa almost ', 'disgust'] joy disgust\n",
      "['meet ', 'shame'] joy shame\n",
      "['told girlfriend joke openli frankli ', 'joy'] shame joy\n",
      "['intim girlfriend told father wa oppos relationship had insult integr ', 'anger'] sadness anger\n",
      "['studi are too demand not cope ', 'sadness'] guilt sadness\n",
      "['masturb ', 'guilt'] shame guilt\n",
      "['finish work had plan homework ', 'joy'] guilt joy\n",
      "['someon play trick ', 'anger'] shame anger\n",
      "['wa narrow dirti passag wa locat market had stand there wait peopl ', 'disgust'] fear disgust\n",
      "['said someth wa conscienc ', 'guilt'] shame guilt\n",
      "['hero wa chase terribl vampir suspens horror film shown t.v ', 'fear'] disgust fear\n",
      "['studi group person alway like argu unimport irrelev minor point tri persuad other unfriendli way wa obstin not accept other point view ', 'disgust'] anger disgust\n",
      "['friend had offend classmat unintenion want apolog decid visit knew wa stubborn were frighten rang door fear wa climax ', 'fear'] guilt fear\n",
      "['onc primari had forgotten take book class teacher punish ask stand back class thought way mother react saw be punish mother wa veri good did not see punish felt sorri ', 'shame'] guilt shame\n",
      "['busi day went back hostel close door had drink then read favourit book bed suddenli felt peac joy ', 'joy'] shame joy\n",
      "['yesterday read newspap year old woman had abus month old son had caus death wa veri angri read not human act abus fragil life not forgiv sin ', 'anger'] disgust anger\n",
      "['tiresom person held day long wa veri busi then not rememb problem wa contin tri make talk disturb ', 'disgust'] anger disgust\n",
      "['wa appreci other especi famili member friend ', 'joy'] sadness joy\n",
      "['put other shoe tri make person happi comfort make friend misunderstood reject especi person famili member friend ', 'anger'] guilt anger\n",
      "['wa conflict interest close friend mine onli thought own interest not friendship behaviour hurt friend incid friend isol give reason ', 'sadness'] guilt sadness\n",
      "['wa emot unstabl said thing have hurt other made feel unhappi calm down realiz had been selfish had not taken consider feel other then felt asham someon point behaviour ', 'shame'] guilt shame\n",
      "['day wa littl boy friend ask play outsid catch boy howev parent did not know were out got home wa veri late fear be scold parent ', 'fear'] guilt fear\n",
      "['learnt had fail exam not onli influenc emot also other import task also made record imperfect ', 'sadness'] shame sadness\n",
      "['alway made lot nois certain lectur have been did not respect lectur finali lectur not toler scold angrili point misbehaviour ', 'guilt'] anger guilt\n",
      "['first year univers had bad result term especi first term wa afraid not promot next year other ahead ', 'fear'] joy fear\n",
      "['onc father slap mother small quarrel ', 'anger'] guilt anger\n",
      "['use play group classmat found later were cheap thought behaviour conduct smoke fight speak foul languag thought destroy imag colleg student ', 'disgust'] shame disgust\n",
      "['wa discov had receiv warn letter g.p.a wa veri low ', 'shame'] joy shame\n",
      "['mani year back quarrel younger brother small reason use pole beat nearli broke arm recov treatment last sever month relationship wa wors not listen ', 'guilt'] anger guilt\n",
      "['saturday afternoon deliber dress nice had been bad mood late hope walk soft sunlight tri uplift spirit wa have lunch canteen male classmat ask wa dress nice had seldom joke said had loung suit look veri nice wore togeth ', 'joy'] shame joy\n",
      "['exam wa draw want prepar had lot other thing did not have much time prepar exam sat down studi wa scare not abl finish ', 'fear'] shame fear\n",
      "['femal classmat wa alway late meet were homework not social gather were veri busi deadlin wa close had wast hour hour wait noth els then ', 'anger'] guilt anger\n",
      "['meet end start talk have next discuss had mani test come week not have meet thought understand had alway done did not understand problem thought not have mani other activ reaction made burst tear ', 'sadness'] guilt sadness\n",
      "['wa child wa play upper deck bed brother parent slept lower deck father felt disgust beat felt veri sad father had never beaten scold ', 'sadness'] guilt sadness\n",
      "['boyfriend did not have contact other summer holiday met day registr look canteen ask want have drink said did not want favour ', 'disgust'] guilt disgust\n",
      "['night wa primari felt thirsti fetch thermo pour cup water then saw brother lower head jokingli pour water head ', 'guilt'] disgust guilt\n",
      "['had gone camp old classmat wa storm were flurri time felt love concern friend ', 'joy'] sadness joy\n",
      "['christian not find mean life seem deceiv not find way ', 'sadness'] disgust sadness\n",
      "['brother christian fellowship often phone talk hour more howev wa noth import convers found person veri disgust ', 'disgust'] anger disgust\n",
      "['mother wa alway fastidi room bed time treat strictli punish physic thing were intoler ', 'disgust'] anger disgust\n",
      "['wa wa alway punish forget homework first time wa punish not allow leav school slip school ', 'guilt'] shame guilt\n",
      "['receiv mid-term exam paper major subject found had fail ', 'sadness'] joy sadness\n",
      "['wa led class riot howev form master said conduct wa good ask tell name had taken part repli did not know ', 'shame'] anger shame\n",
      "['promis join meet did not turn did not want work ', 'guilt'] anger guilt\n",
      "['found problem homework not get solv tri best ', 'fear'] disgust fear\n",
      "['had date girlfriend time place had not been fix ask phone hour later wa midnight did not want disturb famili wait sever hour call did not call night ', 'anger'] guilt anger\n",
      "['found abil ordinari work wa wors fellow mate ', 'sadness'] anger sadness\n",
      "['guilti behaviour wa found other ', 'shame'] guilt shame\n",
      "['behaviour wa immor think sex ', 'guilt'] disgust guilt\n",
      "['had join youth group observ affair commun had mani opportun contact govern committe member district board local execut structur alway tri consult discuss found such peopl did not understand commun affair even dampen enthusiasm local affair did not understand had decid work commun leader ', 'disgust'] anger disgust\n",
      "['quarrel younger sister had said someth boyfriend consequ look saw thought wa tri separ had misunderstood ', 'sadness'] guilt sadness\n",
      "['few day back walk heap faec walk road got goos flesh ', 'disgust'] fear disgust\n",
      "['noon sunday receiv phone call tell mother had been knock car street cross husband see not believ father mother had gone togeth buy lunch howev immedi ran scene accid ', 'fear'] guilt fear\n",
      "['summer vacat schoolmat wa not class went britain left classmat were accquaint had b.b.q beach arriv saw peopl were not close friend depart person person were play mahjong other were play bridg had noth wa had prepar food later want talk classmat did not even have decenc listen onli ask few question half-heartedli then talk own convers wa classmat ', 'disgust'] anger disgust\n",
      "['wa lower join interview group interview gener public friend group lost purs wa veri nervou had place left plan see later then heard describ purs look realiz had seen purs floor had not want thing ', 'shame'] guilt shame\n",
      "['camp night listen ghost stori told classmat ', 'fear'] disgust fear\n",
      "[\"few day back wa wait bu bu stop get bu had prepar exact amount coin pay bu fair got bu put coin box meant collect bu fair thought had paid want get insid howev bu driver call ask impolit way coin were stuck open box had not seen pay wa n't stack coin box not understand driver kept question made feel angri last insert dollar coin box just get away later found had forgotten few coin pocket had not paid enough fair first time had enter bu still hear scold felt disgust \", 'disgust'] anger disgust\n",
      "['onc quarrel sister deliber mess belong ', 'guilt'] anger guilt\n",
      "['had dream had veri close friend had sever stone hous new territori villag did not have much furnitur took see field had never seen were sever inch clear water sunshin wa reflect want sit short green plant field wa afraid tread plant death friend said not die sat down happili trouser did not get wet ', 'joy'] fear joy\n",
      "['friend often play joke sometim thought wa nonsens person onc went friend hous walk first shut door firmli felt did not respect moreov wa friend not have behav wa veri angri wa bad mood then ', 'anger'] guilt anger\n",
      "['had friend wa veri kind tri best like understand wa not help reject critic blame want get away soon possibl ', 'disgust'] guilt disgust\n",
      "['boy phone night want talk minut thought reveal felt question relationship treat friend did not want misunderstand therefor refus meet told see come day wa veri unhappi fear have hurt got troubl ', 'fear'] guilt fear\n",
      "['raini day street were wet wa walk slope fell down out careless were mani peopl saw felt ashamesd moreov hurt ankl wa pain ', 'shame'] fear shame\n",
      "['father smoke smell make feel veri uncomfort never listen complaint curs furious mind not solv problem violenc tradit moral valu ', 'anger'] disgust anger\n",
      "['got mathemat test mark not believ wa true past have least mark wa get weaker studi made feel not expect too much go univers ', 'sadness'] shame sadness\n",
      "['night boyfriend express love canteen presenc friend give present ', 'joy'] shame joy\n",
      "['examin result were not satisfactori even had tri best then start wonder abil major subject howev did not know choos major subject were chang ', 'sadness'] anger sadness\n",
      "['femal classmat were have lunch chat crack joke wa veri happi howev felt have said someth inappropri caus have bad impress ', 'joy'] guilt joy\n",
      "['did not well subject last term wa afraid fail result wa grade wa not good still pass felt more comfort then ', 'fear'] joy fear\n",
      "['primari school teacher caught cheat dictat ', 'fear'] shame fear\n",
      "['someon spread rumour ', 'anger'] disgust anger\n",
      "['night father suddenli suffer heart attack lead breath difficulti ', 'sadness'] fear sadness\n",
      "['curriculum year english cours wa veri heavi had not prepar teacher ask sever question class student were not readi answer question teacher wa frustat ', 'disgust'] shame disgust\n",
      "['peep ', 'guilt'] sadness guilt\n",
      "['saw bed hostel wa mess guess someon els had use daili necess felt person saniti had been affect ', 'anger'] disgust anger\n",
      "['physic experi session did not understand content experi did not know ', 'sadness'] disgust sadness\n",
      "['were old peopl crowd bu did not have courag give seat close eye sleep then open book read heart want give seat ', 'guilt'] shame guilt\n",
      "['wa week higher level result were announc had tri fail mani time wa last time wa take exam knew fail again woulld have enter societi imagin thing period dreamt had enter univers wa nice experi thought futur unexplain fear rose fear be worker not have bright prospect also fear critic rel brother had gone univers whenevr thought issu not eat concentr heart beat increas ', 'fear'] anger fear\n",
      "['hostel roommat wa veri selfish person avoid do anyht did not concern few prepar lunch togeth had decid share work roomat had promis same had wash bowl everytim dinner tri wait thought realiz fault did not want tell work univers student have self-respect disappoint time saw tri avoid did not want keep contact ', 'disgust'] guilt disgust\n",
      "['august,1983 long await big envelop document c.u.h.k admiss arriv wa afternoon had not been do anyth postman big bag knock door knew wa hurriedli open envelop mood time hard describ last sever hour onli calm down later ', 'joy'] guilt joy\n",
      "['christma eve,1984 had just finish exam wa afraid result major subject had been veri unsatisfactori thought had onli chanc pass even fail subject not need repeat howev like subject veri much result were bad lazy wa forc chang minor subject veri unwil ', 'fear'] sadness fear\n",
      "[\"issu worri rather sadden mid septemb went guanggho alon wa look accomod even have walk mile still not find anyth wa not worri sleep street procedur problem final found place sleep o'clock \", 'sadness'] fear sadness\n",
      "['roommat like listen meaningless song had melodi had content live togeth play record wa forc listen not tell did not listen song had right disturb freedom other find pretext leav room somewher els ', 'disgust'] anger disgust\n",
      "['lie best friend ', 'guilt'] shame guilt\n",
      "['year back someon invit tutor grand-daught grand-daught ask question mathemat taught howev did not listen made feel unhappi second year wa same enter univers girl parent suggest employ daghter tutor told univers wa homework have lot time made time-t requir tutor day week did not respect anyway had child teach ', 'anger'] shame anger\n",
      "Total accuracy: 62.632979% (471/20).\n"
     ]
    }
   ],
   "source": [
    "get_accuracy(test_data, classifier)"
   ]
  },
  {
   "cell_type": "code",
   "execution_count": 177,
   "metadata": {
    "collapsed": false
   },
   "outputs": [],
   "source": [
    "# b =  word_distribution(emotion_labels,c[1],c[0])\n",
    "# o = open('emotion_words.txt','w')\n",
    "# o.write(str(b))\n",
    "# o.close()"
   ]
  },
  {
   "cell_type": "code",
   "execution_count": 19,
   "metadata": {
    "collapsed": false
   },
   "outputs": [],
   "source": [
    "gensim_st = corpora.Dictionary(st)"
   ]
  },
  {
   "cell_type": "code",
   "execution_count": 20,
   "metadata": {
    "collapsed": false
   },
   "outputs": [],
   "source": [
    "gensim_st.save('corpus.dict')"
   ]
  },
  {
   "cell_type": "code",
   "execution_count": 21,
   "metadata": {
    "collapsed": false
   },
   "outputs": [],
   "source": [
    "gen_token = gensim_st.token2id"
   ]
  },
  {
   "cell_type": "code",
   "execution_count": 22,
   "metadata": {
    "collapsed": false
   },
   "outputs": [
    {
     "name": "stdout",
     "output_type": "stream",
     "text": [
      "Dictionary(5609 unique tokens: [u'foul', u'authorit', u'scold', u'cruelti', u'self-piti']...)\n"
     ]
    }
   ],
   "source": [
    "print gensim_st"
   ]
  },
  {
   "cell_type": "code",
   "execution_count": 23,
   "metadata": {
    "collapsed": false
   },
   "outputs": [],
   "source": [
    "corpus = [gensim_st.doc2bow(text) for text in st]\n",
    "corpora.MmCorpus.serialize('corpus.mm', corpus)"
   ]
  },
  {
   "cell_type": "code",
   "execution_count": 24,
   "metadata": {
    "collapsed": false
   },
   "outputs": [],
   "source": [
    "gen_c = corpora.MmCorpus('corpus.mm')"
   ]
  },
  {
   "cell_type": "code",
   "execution_count": 25,
   "metadata": {
    "collapsed": true
   },
   "outputs": [],
   "source": [
    "tfidf = models.TfidfModel(gen_c)"
   ]
  },
  {
   "cell_type": "code",
   "execution_count": 26,
   "metadata": {
    "collapsed": true
   },
   "outputs": [],
   "source": [
    "corpus_tfidf = tfidf[gen_c]"
   ]
  },
  {
   "cell_type": "code",
   "execution_count": 27,
   "metadata": {
    "collapsed": false
   },
   "outputs": [],
   "source": [
    "dictionary = corpora.Dictionary.load('corpus.dict')\n",
    "lsi = models.LsiModel(corpus_tfidf, id2word=dictionary, num_topics=5) # initialize an LSI transformation\n",
    "corpus_lsi = lsi[corpus_tfidf]"
   ]
  },
  {
   "cell_type": "code",
   "execution_count": 28,
   "metadata": {
    "collapsed": false
   },
   "outputs": [
    {
     "name": "stderr",
     "output_type": "stream",
     "text": [
      "WARNING:gensim.similarities.docsim:scanning corpus to determine the number of features (consider setting `num_features` explicitly)\n"
     ]
    }
   ],
   "source": [
    "index = similarities.MatrixSimilarity(lsi[gen_c])"
   ]
  },
  {
   "cell_type": "code",
   "execution_count": 29,
   "metadata": {
    "collapsed": true
   },
   "outputs": [],
   "source": [
    "lsi.save('corpus.lsi') \n",
    "index.save('corpus.index')\n",
    "# lsi = models.LsiModel.load('corpus.lsi')"
   ]
  },
  {
   "cell_type": "code",
   "execution_count": 102,
   "metadata": {
    "collapsed": true
   },
   "outputs": [],
   "source": [
    "length = len(corpus_lsi)\n",
    "train_size = (9 * length) // 10\n",
    "train_data = corpus_lsi[:train_size]\n",
    "test_data = corpus_lsi[train_size:]"
   ]
  },
  {
   "cell_type": "code",
   "execution_count": 103,
   "metadata": {
    "collapsed": false
   },
   "outputs": [],
   "source": [
    "test_labels = labels[train_size:]\n",
    "train_labels = labels[:train_size]"
   ]
  },
  {
   "cell_type": "code",
   "execution_count": 104,
   "metadata": {
    "collapsed": true
   },
   "outputs": [],
   "source": [
    "def clean_data(train_data):\n",
    "    clean_train = []\n",
    "    for t in train_data:\n",
    "        sen = []\n",
    "        for r in t:\n",
    "            sen.append(r[1])\n",
    "        clean_train.append(sen)\n",
    "    return clean_train"
   ]
  },
  {
   "cell_type": "code",
   "execution_count": 105,
   "metadata": {
    "collapsed": false
   },
   "outputs": [],
   "source": [
    "clean_train = clean_data(train_data)\n",
    "clean_test = clean_data(test_data)\n",
    "clean_dataset = clean_data(corpus_lsi)\n",
    "train_frame = pd.DataFrame({0 : train_labels,\n",
    "                            1 : clean_train})\n",
    "test_frame = pd.DataFrame({0 : test_labels,\n",
    "                           1 : clean_test})"
   ]
  },
  {
   "cell_type": "code",
   "execution_count": 106,
   "metadata": {
    "collapsed": false
   },
   "outputs": [],
   "source": [
    "def semantic(train_l, train_s, test_frame, clean_dataset, labels):\n",
    "    tot = 0\n",
    "    for i in range(len(test_frame)):\n",
    "        te_l = test_frame[0][i]\n",
    "        te_s = test_frame[1][i]\n",
    "        dist = []\n",
    "        for tr in train_s:\n",
    "            dist.append(np.linalg.norm(np.array(te_s) - np.array(tr)))\n",
    "        np.array(dist)\n",
    "        m = np.argmax(dist)\n",
    "        emo = train_l[m]\n",
    "        if emo == te_l:\n",
    "            tot += 1\n",
    "#         else:\n",
    "#             print emo, te_l\n",
    "    accu = tot/len(test_frame)\n",
    "    print \"Accuracy =  \", accu*100, \"%\"\n",
    "    return accu"
   ]
  },
  {
   "cell_type": "code",
   "execution_count": 107,
   "metadata": {
    "collapsed": false
   },
   "outputs": [
    {
     "name": "stdout",
     "output_type": "stream",
     "text": [
      "Accuracy =   17.4074074074 %\n"
     ]
    },
    {
     "data": {
      "text/plain": [
       "0.17407407407407408"
      ]
     },
     "execution_count": 107,
     "metadata": {},
     "output_type": "execute_result"
    }
   ],
   "source": [
    "semantic(train_labels, clean_train, test_frame, clean_dataset, labels)"
   ]
  },
  {
   "cell_type": "code",
   "execution_count": 113,
   "metadata": {
    "collapsed": false
   },
   "outputs": [
    {
     "data": {
      "text/plain": [
       "'fear'"
      ]
     },
     "execution_count": 113,
     "metadata": {},
     "output_type": "execute_result"
    }
   ],
   "source": [
    "test_frame[0][1]"
   ]
  },
  {
   "cell_type": "code",
   "execution_count": 30,
   "metadata": {
    "collapsed": true
   },
   "outputs": [],
   "source": [
    "\n",
    "\n",
    "url = 'http://gateway-a.watsonplatform.net/calls/text/TextGetEmotion'\n",
    "params = urllib.urlencode({\n",
    "  'apikey': '15ce4bd07b66f9e000a15383777870c0afb383fb',\n",
    "  'text': 'I am excited',\n",
    "  'outputMode': 'json'\n",
    "})\n",
    "response = urllib2.urlopen(url, params).read()"
   ]
  },
  {
   "cell_type": "code",
   "execution_count": 31,
   "metadata": {
    "collapsed": false
   },
   "outputs": [
    {
     "data": {
      "text/plain": [
       "'{\\r\\n    \"status\": \"OK\",\\r\\n    \"usage\": \"By accessing AlchemyAPI or using information generated by AlchemyAPI, you are agreeing to be bound by the AlchemyAPI Terms of Use: http://www.alchemyapi.com/company/terms.html\",\\r\\n    \"totalTransactions\": \"0\",\\n    \"language\": \"english\",\\n    \"docEmotions\": {\\n        \"anger\": \"0.044104\",\\n        \"disgust\": \"0.033898\",\\n        \"fear\": \"0.702263\",\\n        \"joy\": \"0.113659\",\\n        \"sadness\": \"0.051584\"\\n    }\\n}\\r\\n'"
      ]
     },
     "execution_count": 31,
     "metadata": {},
     "output_type": "execute_result"
    }
   ],
   "source": [
    "response"
   ]
  },
  {
   "cell_type": "code",
   "execution_count": null,
   "metadata": {
    "collapsed": true
   },
   "outputs": [],
   "source": []
  }
 ],
 "metadata": {
  "kernelspec": {
   "display_name": "Python 2",
   "language": "python",
   "name": "python2"
  },
  "language_info": {
   "codemirror_mode": {
    "name": "ipython",
    "version": 2
   },
   "file_extension": ".py",
   "mimetype": "text/x-python",
   "name": "python",
   "nbconvert_exporter": "python",
   "pygments_lexer": "ipython2",
   "version": "2.7.11"
  }
 },
 "nbformat": 4,
 "nbformat_minor": 0
}
